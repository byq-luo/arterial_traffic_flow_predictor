{
 "cells": [
  {
   "cell_type": "code",
   "execution_count": 1,
   "metadata": {},
   "outputs": [],
   "source": [
    "# %load main.py\n",
    "import sys\n",
    "\n",
    "import numpy as np\n",
    "import pandas as pd\n",
    "import datetime as dt\n",
    "\n",
    "from armax import armax\n",
    "from config import config\n",
    "import mysql_utils as mysql\n",
    "import visualization"
   ]
  },
  {
   "cell_type": "code",
   "execution_count": 2,
   "metadata": {},
   "outputs": [],
   "source": [
    "DATA_FREQUENCY = dt.timedelta(minutes=5)"
   ]
  },
  {
   "cell_type": "code",
   "execution_count": 3,
   "metadata": {},
   "outputs": [],
   "source": [
    "#DETECTOR_DATA_TABLE = \"detector_data_processed_2017_1\"\n",
    "DETECTOR_DATA_TABLE = \"detector_data_processed_2017\"\n",
    "INTERSECTION = [608217, 608219, 608103, 608102, 608106, 608114, 608108]\n",
    "QUERY = \"WITH intersection AS (SELECT Year, Month, Day, Time, Volume AS Flow, DetectorID FROM {} \\\n",
    "WHERE DetectorID = 608217 OR DetectorID = 608219 OR DetectorID = 608103 OR DetectorID = 608102 \\\n",
    "OR DetectorID = 608106 OR DetectorID = 608114 OR DetectorID = 608108) \\\n",
    "SELECT Year, Month, Day, Time, {} FROM intersection GROUP BY Year, Month, Day, Time ORDER BY Year, Month, Day, Time;\"\\\n",
    ".format(DETECTOR_DATA_TABLE,\n",
    "        \", \".join([\"SUM(IF (DetectorId = {}, Flow, NULL))\".format(detector_id) for detector_id in INTERSECTION]))"
   ]
  },
  {
   "cell_type": "code",
   "execution_count": 4,
   "metadata": {},
   "outputs": [],
   "source": [
    "def query_detector_data(cursor):\n",
    "    query = QUERY\n",
    "\n",
    "    cursor = mysql.query(cursor, query)\n",
    "    \n",
    "    if cursor == None:\n",
    "        return\n",
    "    \n",
    "    lists = []\n",
    "\n",
    "    for row in cursor:\n",
    "        r = [dt.datetime(row[0], row[1], row[2], row[3] // 3600, (row[3] % 3600) // 60, row[3] % 60)]\n",
    "        r.extend(row[4:])\n",
    "        lists.append(r)\n",
    "    \n",
    "    df = pd.DataFrame(lists, columns=['Date'] + [str(detector) for detector in INTERSECTION]).set_index('Date')\n",
    "\n",
    "    return df"
   ]
  },
  {
   "cell_type": "code",
   "execution_count": 5,
   "metadata": {},
   "outputs": [],
   "source": [
    "cnx = mysql.connect_to_database(**config)\n",
    "\n",
    "if cnx == None:\n",
    "    sys.exit()\n",
    "\n",
    "cursor = cnx.cursor()"
   ]
  },
  {
   "cell_type": "code",
   "execution_count": 6,
   "metadata": {},
   "outputs": [],
   "source": [
    "intersection = query_detector_data(cursor)"
   ]
  },
  {
   "cell_type": "code",
   "execution_count": 7,
   "metadata": {},
   "outputs": [],
   "source": [
    "cursor.close()\n",
    "cnx.close()"
   ]
  }
 ],
 "metadata": {
  "kernelspec": {
   "display_name": "Python 3",
   "language": "python",
   "name": "python3"
  },
  "language_info": {
   "codemirror_mode": {
    "name": "ipython",
    "version": 3
   },
   "file_extension": ".py",
   "mimetype": "text/x-python",
   "name": "python",
   "nbconvert_exporter": "python",
   "pygments_lexer": "ipython3",
   "version": "3.7.1"
  }
 },
 "nbformat": 4,
 "nbformat_minor": 2
}
