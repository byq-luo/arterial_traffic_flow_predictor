{
 "cells": [
  {
   "cell_type": "code",
   "execution_count": 1,
   "metadata": {},
   "outputs": [],
   "source": [
    "# %load main.py\n",
    "import sys\n",
    "# import importlib\n",
    "\n",
    "import numpy as np\n",
    "import pandas as pd\n",
    "import matplotlib.pyplot as plt\n",
    "%matplotlib inline\n",
    "import datetime as dt\n",
    "\n",
    "from armax import armax\n",
    "from config import config\n",
    "import mysql_utils as mysql\n",
    "import preprocessing\n",
    "import visualization"
   ]
  },
  {
   "cell_type": "code",
   "execution_count": 2,
   "metadata": {},
   "outputs": [],
   "source": [
    "DATA_FREQUENCY = dt.timedelta(minutes=5)"
   ]
  },
  {
   "cell_type": "code",
   "execution_count": 3,
   "metadata": {},
   "outputs": [],
   "source": [
    "# DETECTOR_DATA_TABLE = \"detector_data_processed_2017\"\n",
    "DETECTOR_ID = \"608219\"\n",
    "# DETECTOR_DATA_QUERY = \"SELECT DetectorID, Year, Month, Day, Time, Volume, Occupancy\\\n",
    "#                         FROM {} AS DD NATURAL JOIN detector_health AS DH\\\n",
    "#                         WHERE DetectorID = {} AND Health = 1\\\n",
    "#                         ORDER BY Year, Month, Day, Time;\".format(DETECTOR_DATA_TABLE, DETECTOR_ID)"
   ]
  },
  {
   "cell_type": "code",
   "execution_count": 4,
   "metadata": {},
   "outputs": [],
   "source": [
    "flow = pd.read_csv(\"data/detector_{}_flow_imputed.csv\".format(DETECTOR_ID), index_col=0, parse_dates=True)"
   ]
  },
  {
   "cell_type": "code",
   "execution_count": 6,
   "metadata": {},
   "outputs": [],
   "source": [
    "arma_model = armax(flow, frequency=DATA_FREQUENCY)"
   ]
  },
  {
   "cell_type": "code",
   "execution_count": null,
   "metadata": {},
   "outputs": [],
   "source": [
    "arma_model.fit_to_order((1, 1), method=\"css\", cross_validate=True, verbose=True)"
   ]
  },
  {
   "cell_type": "code",
   "execution_count": 8,
   "metadata": {},
   "outputs": [
    {
     "name": "stdout",
     "output_type": "stream",
     "text": [
      "Fitting order (1, 1)\n",
      "Cross validating monthly results in 11 folds\n",
      "Trained month 0; sse 49489.39286521674\n",
      "Trained month 1; sse 54007.34153358485\n",
      "Trained month 2; sse 50086.3910774919\n",
      "Trained month 3; sse 51852.29979499325\n",
      "Trained month 4; sse 54034.54326377268\n",
      "Trained month 5; sse 46770.629597132494\n",
      "Trained month 6; sse 50423.68917010537\n",
      "Trained month 7; sse 50671.23017513943\n",
      "Trained month 8; sse 53948.959334268155\n",
      "Trained month 9; sse 51294.258382738175\n",
      "Trained month 10; sse 51508.77589228073\n",
      "Finished cross validation with order (1, 1); average sse 47007.29259056031\n",
      "Order (1, 1) sse: 47007.29259056031\n",
      "Fitting order (1, 2)\n",
      "Cross validating monthly results in 11 folds\n",
      "Trained month 0; sse 49234.72211401269\n",
      "Trained month 1; sse 53737.270404151684\n",
      "Trained month 2; sse 50018.350632340596\n",
      "Trained month 3; sse 51674.39182346225\n",
      "Trained month 4; sse 53792.29937007911\n",
      "Trained month 5; sse 46697.679543251455\n",
      "Trained month 6; sse 50262.00813101928\n",
      "Trained month 7; sse 50457.964194998916\n",
      "Trained month 8; sse 53945.33208208879\n",
      "Trained month 9; sse 51139.72830854033\n",
      "Trained month 10; sse 51350.563350357734\n",
      "Finished cross validation with order (1, 2); average sse 46859.19249619191\n",
      "Order (1, 2) sse: 46859.19249619191\n",
      "Fitting order (1, 3)\n",
      "Cross validating monthly results in 11 folds\n",
      "Trained month 0; sse 48982.11718308927\n",
      "Trained month 1; sse 53499.46872263495\n",
      "Trained month 2; sse 49955.80310457641\n",
      "Trained month 3; sse 51526.62243314731\n",
      "Trained month 4; sse 53549.10700972833\n",
      "Trained month 5; sse 46650.72270184681\n",
      "Trained month 6; sse 50140.86812050572\n",
      "Trained month 7; sse 50189.34375720876\n",
      "Trained month 8; sse 53992.05729925193\n",
      "Trained month 9; sse 51000.38893480312\n",
      "Trained month 10; sse 51152.64737340127\n",
      "Finished cross validation with order (1, 3); average sse 46719.92888668282\n",
      "Order (1, 3) sse: 46719.92888668282\n",
      "Fitting order (1, 4)\n",
      "Cross validating monthly results in 11 folds\n",
      "Trained month 0; sse 48802.81833874543\n",
      "Trained month 1; sse 53371.39586894851\n",
      "Trained month 2; sse 49949.30629505916\n",
      "Trained month 3; sse 51476.29457844148\n",
      "Trained month 4; sse 53390.097831533225\n",
      "Trained month 5; sse 46537.02969378205\n",
      "Trained month 6; sse 50112.48453925619\n",
      "Trained month 7; sse 49959.23253695273\n",
      "Trained month 8; sse 54102.04426802822\n",
      "Trained month 9; sse 50946.6410483346\n",
      "Trained month 10; sse 50999.30205369036\n",
      "Finished cross validation with order (1, 4); average sse 46637.22058773099\n",
      "Order (1, 4) sse: 46637.22058773099\n",
      "Fitting order (1, 5)\n",
      "Cross validating monthly results in 11 folds\n",
      "Trained month 0; sse 49171.587849331416\n",
      "Trained month 1; sse 53663.206463096925\n",
      "Trained month 2; sse 50003.73649126294\n",
      "Trained month 3; sse 51627.24559330912\n",
      "Trained month 4; sse 53712.318602796615\n",
      "Trained month 5; sse 46688.0868495036\n",
      "Trained month 6; sse 50211.90415407883\n",
      "Trained month 7; sse 50365.33086427911\n",
      "Trained month 8; sse 53973.27257638789\n",
      "Trained month 9; sse 51084.19766386664\n",
      "Trained month 10; sse 51293.20717671254\n",
      "Finished cross validation with order (1, 5); average sse 46816.1745237188\n",
      "Order (1, 5) sse: 46816.1745237188\n",
      "Fitting order (2, 1)\n",
      "Cross validating monthly results in 11 folds\n",
      "Trained month 0; sse 49810.8697904133\n",
      "Trained month 1; sse 54282.4249566661\n",
      "Trained month 2; sse 50156.90233414069\n",
      "Trained month 3; sse 52050.192198224184\n",
      "Trained month 4; sse 54261.00059731948\n",
      "Trained month 5; sse 46849.70067655825\n",
      "Trained month 6; sse 50103.1246517935\n",
      "Trained month 7; sse 50099.257109924765\n",
      "Trained month 8; sse 53991.26151483591\n",
      "Trained month 9; sse 50972.74944600695\n",
      "Trained month 10; sse 51109.99455190491\n",
      "Finished cross validation with order (2, 1); average sse 46973.95648564901\n",
      "Order (2, 1) sse: 46973.95648564901\n",
      "Fitting order (2, 2)\n",
      "Cross validating monthly results in 11 folds\n",
      "Trained month 0; sse 49295.23974326049\n",
      "Trained month 1; sse 53820.34207428619\n",
      "Trained month 2; sse 50037.33447068375\n",
      "Trained month 3; sse 51718.66722384842\n",
      "Trained month 4; sse 53489.07548472943\n",
      "Trained month 5; sse 46631.51497781635\n",
      "Trained month 6; sse 50116.45817291055\n",
      "Trained month 7; sse 50115.98520830561\n",
      "Trained month 8; sse 54002.52932674094\n",
      "Trained month 9; sse 50974.887340079535\n",
      "Trained month 10; sse 51101.73703392491\n",
      "Finished cross validation with order (2, 2); average sse 46775.314254715515\n",
      "Order (2, 2) sse: 46775.314254715515\n",
      "Fitting order (2, 3)\n",
      "Cross validating monthly results in 11 folds\n",
      "Trained month 0; sse 49329.870614317464\n",
      "Trained month 1; sse 53837.43417624256\n",
      "Trained month 2; sse 50040.91081155746\n",
      "Trained month 3; sse 51489.98321736114\n",
      "Trained month 4; sse 53478.94335446487\n",
      "Trained month 5; sse 46629.768166917864\n",
      "Trained month 6; sse 50113.91097448124\n",
      "Trained month 7; sse 50099.15850971926\n",
      "Trained month 8; sse 54016.240944161305\n",
      "Trained month 9; sse 50968.62546974269\n",
      "Trained month 10; sse 51086.20683910867\n",
      "Finished cross validation with order (2, 3); average sse 46757.58775650622\n",
      "Order (2, 3) sse: 46757.58775650622\n",
      "Fitting order (2, 4)\n",
      "Cross validating monthly results in 11 folds\n",
      "Trained month 0; sse 48847.11581192852\n",
      "Trained month 1; sse 53398.59187645792\n",
      "Trained month 2; sse 49929.49677265606\n",
      "Trained month 3; sse 51471.17780544143\n",
      "Trained month 4; sse 53433.5571283756\n",
      "Trained month 5; sse 46620.18200575582\n",
      "Trained month 6; sse 50107.33788294983\n",
      "Trained month 7; sse 50036.451056713704\n",
      "Trained month 8; sse 54058.48340418658\n",
      "Trained month 9; sse 50949.33968149543\n",
      "Trained month 10; sse 51043.40676526741\n",
      "Finished cross validation with order (2, 4); average sse 46657.92834926902\n",
      "Order (2, 4) sse: 46657.92834926902\n",
      "Fitting order (2, 5)\n",
      "Cross validating monthly results in 11 folds\n",
      "Trained month 0; sse 49058.704068116094\n",
      "Trained month 1; sse 53560.79228236796\n",
      "Trained month 2; sse 49972.18752333119\n",
      "Trained month 3; sse 51554.09093936993\n",
      "Trained month 4; sse 53588.67946024147\n",
      "Trained month 5; sse 46671.54806666564\n",
      "Trained month 6; sse 50159.24050318949\n",
      "Trained month 7; sse 50255.26186058404\n",
      "Trained month 8; sse 53989.91832154961\n",
      "Trained month 9; sse 51032.81241452769\n",
      "Trained month 10; sse 51217.48470843448\n",
      "Finished cross validation with order (2, 5); average sse 46755.0600123648\n",
      "Order (2, 5) sse: 46755.0600123648\n",
      "Fitting order (3, 1)\n",
      "Cross validating monthly results in 11 folds\n",
      "Trained month 0; sse 49072.74842131969\n",
      "Trained month 1; sse 53591.62449874482\n",
      "Trained month 2; sse 49993.14098627072\n",
      "Trained month 3; sse 51610.56631239907\n",
      "Trained month 4; sse 53695.5560935352\n",
      "Trained month 5; sse 46695.92635462912\n",
      "Trained month 6; sse 50216.51953702027\n",
      "Trained month 7; sse 50371.9686173928\n",
      "Trained month 8; sse 53960.62846805943\n",
      "Trained month 9; sse 51088.43396126189\n",
      "Trained month 10; sse 51282.05317735748\n",
      "Finished cross validation with order (3, 1); average sse 46798.2638689992\n",
      "Order (3, 1) sse: 46798.2638689992\n",
      "Fitting order (3, 2)\n",
      "Cross validating monthly results in 11 folds\n",
      "Trained month 0; sse 48963.74953494533\n",
      "Trained month 1; sse 53496.56868261531\n",
      "Trained month 2; sse 49951.87699805938\n",
      "Trained month 3; sse 51517.165573736325\n",
      "Trained month 4; sse 53521.60748835088\n",
      "Trained month 5; sse 46655.77123761878\n",
      "Trained month 6; sse 50124.430715096576\n",
      "Trained month 7; sse 50154.06133500587\n",
      "Trained month 8; sse 53995.99930936976\n",
      "Trained month 9; sse 50986.59100936048\n",
      "Trained month 10; sse 51130.73331591644\n",
      "Finished cross validation with order (3, 2); average sse 46708.21293333961\n",
      "Order (3, 2) sse: 46708.21293333961\n",
      "Fitting order (3, 3)\n",
      "Cross validating monthly results in 11 folds\n",
      "Trained month 0; sse 48963.50650335047\n",
      "Trained month 1; sse 53496.6004865866\n",
      "Trained month 2; sse 49951.87791285978\n",
      "Trained month 3; sse 51516.93310174538\n",
      "Trained month 4; sse 53519.76221236815\n",
      "Trained month 5; sse 46649.523547869445\n",
      "Trained month 6; sse 50123.63487004828\n",
      "Trained month 7; sse 50149.13264422323\n",
      "Trained month 8; sse 53997.785576167546\n",
      "Trained month 9; sse 50984.79988137363\n",
      "Trained month 10; sse 51125.430797740846\n",
      "Finished cross validation with order (3, 3); average sse 46706.58229452778\n",
      "Order (3, 3) sse: 46706.58229452778\n",
      "Fitting order (3, 4)\n",
      "Cross validating monthly results in 11 folds\n",
      "Trained month 0; sse 48792.91887969323\n",
      "Trained month 1; sse 53313.157709445724\n",
      "Trained month 2; sse 49922.19414945205\n",
      "Trained month 3; sse 51481.160985707706\n",
      "Trained month 4; sse 53459.1815010916\n",
      "Trained month 5; sse 46641.324699172124\n"
     ]
    },
    {
     "name": "stdout",
     "output_type": "stream",
     "text": [
      "Trained month 6; sse 50112.62516270053\n",
      "Trained month 7; sse 50080.60738261584\n",
      "Trained month 8; sse 54038.181050425854\n",
      "Trained month 9; sse 50962.26479968354\n",
      "Trained month 10; sse 51079.91910094687\n",
      "Finished cross validation with order (3, 4); average sse 46656.96128507793\n",
      "Order (3, 4) sse: 46656.96128507793\n",
      "Fitting order (3, 5)\n",
      "Cross validating monthly results in 11 folds\n",
      "Trained month 0; sse 49105.92716242771\n",
      "Trained month 1; sse 53602.26468232753\n",
      "Trained month 2; sse 49988.774912985005\n",
      "Trained month 3; sse 51588.5664256882\n",
      "Trained month 4; sse 53648.59270188011\n",
      "Trained month 5; sse 46680.454917387455\n",
      "Trained month 6; sse 50182.61237042573\n",
      "Trained month 7; sse 50305.91595960866\n",
      "Trained month 8; sse 53982.30342641895\n",
      "Trained month 9; sse 51054.038670455244\n",
      "Trained month 10; sse 51251.754955837365\n",
      "Finished cross validation with order (3, 5); average sse 46782.6005154535\n",
      "Order (3, 5) sse: 46782.6005154535\n",
      "Fitting order (4, 1)\n",
      "Cross validating monthly results in 11 folds\n",
      "Trained month 0; sse 49060.79913455919\n",
      "Trained month 1; sse 53582.014773250354\n",
      "Trained month 2; sse 49971.86740749879\n",
      "Trained month 3; sse 51558.56169245339\n",
      "Trained month 4; sse 53597.35988731178\n",
      "Trained month 5; sse 46668.92676795999\n",
      "Trained month 6; sse 50160.99334474646\n",
      "Trained month 7; sse 50252.25267040895\n",
      "Trained month 8; sse 53976.67126995517\n",
      "Trained month 9; sse 51025.76144399762\n",
      "Trained month 10; sse 51192.72759463837\n",
      "Finished cross validation with order (4, 1); average sse 46753.994665565006\n",
      "Order (4, 1) sse: 46753.994665565006\n",
      "Fitting order (4, 2)\n",
      "Cross validating monthly results in 11 folds\n",
      "Trained month 0; sse 48972.30396786312\n",
      "Trained month 1; sse 53500.71268800734\n",
      "Trained month 2; sse 49952.61972852204\n",
      "Trained month 3; sse 51518.19219992396\n",
      "Trained month 4; sse 53522.89365886908\n",
      "Trained month 5; sse 46653.801599970546\n",
      "Trained month 6; sse 50124.76944340435\n",
      "Trained month 7; sse 50154.6214430859\n",
      "Trained month 8; sse 53996.00812344533\n",
      "Trained month 9; sse 50986.677937105065\n",
      "Trained month 10; sse 51130.44336516025\n",
      "Finished cross validation with order (4, 2); average sse 46709.420346279745\n",
      "Order (4, 2) sse: 46709.420346279745\n",
      "Fitting order (4, 3)\n",
      "Cross validating monthly results in 11 folds\n",
      "Trained month 0; sse 49261.977475949636\n",
      "Trained month 1; sse 53736.060133803694\n",
      "Trained month 2; sse 50019.534151519634\n",
      "Trained month 3; sse 51668.66939068564\n",
      "Trained month 4; sse 53769.09870439072\n",
      "Trained month 5; sse 46693.85061403826\n",
      "Trained month 6; sse 50245.039175559985\n",
      "Trained month 7; sse 50437.99299720433\n",
      "Trained month 8; sse 53961.058494048746\n",
      "Trained month 9; sse 51122.2110635463\n",
      "Trained month 10; sse 51338.81858211716\n",
      "Finished cross validation with order (4, 3); average sse 46854.52589857201\n",
      "Order (4, 3) sse: 46854.52589857201\n",
      "Fitting order (4, 4)\n",
      "Cross validating monthly results in 11 folds\n",
      "Trained month 0; sse 49193.76934474738\n",
      "Trained month 1; sse 53670.74783591503\n",
      "Trained month 2; sse 49969.132641015254\n",
      "Trained month 3; sse 51557.96216964973\n",
      "Trained month 4; sse 53604.625162617194\n",
      "Trained month 5; sse 46666.175246307634\n",
      "Trained month 6; sse 50159.90011861924\n",
      "Trained month 7; sse 50241.191609990055\n",
      "Trained month 8; sse 53999.08231523535\n",
      "Trained month 9; sse 51020.892403837635\n",
      "Trained month 10; sse 51193.60810556542\n",
      "Finished cross validation with order (4, 4); average sse 46773.090579458316\n",
      "Order (4, 4) sse: 46773.090579458316\n",
      "Fitting order (4, 5)\n",
      "Cross validating monthly results in 11 folds\n",
      "Trained month 0; sse 49001.36612923337\n",
      "Trained month 1; sse 53450.62922119645\n",
      "Trained month 2; sse 49940.752074893906\n",
      "Trained month 3; sse 51499.017742580465\n",
      "Trained month 4; sse 53496.358287591516\n",
      "Trained month 5; sse 46644.3049603613\n",
      "Trained month 6; sse 50121.04062909771\n",
      "Trained month 7; sse 50125.36248162589\n",
      "Trained month 8; sse 54032.53492857476\n",
      "Trained month 9; sse 50977.465387563774\n",
      "Trained month 10; sse 51113.03384078636\n",
      "Finished cross validation with order (4, 5); average sse 46700.155473625455\n",
      "Order (4, 5) sse: 46700.155473625455\n",
      "Fitting order (5, 1)\n",
      "Cross validating monthly results in 11 folds\n",
      "Trained month 0; sse 48867.538200367635\n",
      "Trained month 1; sse 53407.3650711309\n",
      "Trained month 2; sse 49925.67140961694\n",
      "Trained month 3; sse 51472.36900519893\n",
      "Trained month 4; sse 53439.5322745897\n",
      "Trained month 5; sse 46616.71153181602\n",
      "Trained month 6; sse 50093.35575709723\n",
      "Trained month 7; sse 50044.04230890683\n",
      "Trained month 8; sse 54035.99438840989\n",
      "Trained month 9; sse 50953.85937134141\n",
      "Trained month 10; sse 51057.25594456706\n",
      "Finished cross validation with order (5, 1); average sse 46659.47460525355\n",
      "Order (5, 1) sse: 46659.47460525355\n",
      "Fitting order (5, 2)\n",
      "Cross validating monthly results in 11 folds\n",
      "Trained month 0; sse 48936.585193770276\n",
      "Trained month 1; sse 53440.259423773394\n",
      "Trained month 2; sse 49930.808032029505\n",
      "Trained month 3; sse 51484.17602384511\n",
      "Trained month 4; sse 53458.8053329687\n",
      "Trained month 5; sse 46624.80954272766\n",
      "Trained month 6; sse 50103.27122740311\n",
      "Trained month 7; sse 50069.882238056314\n",
      "Trained month 8; sse 54029.81056445434\n",
      "Trained month 9; sse 50960.18407292312\n",
      "Trained month 10; sse 51070.52270823385\n",
      "Finished cross validation with order (5, 2); average sse 46675.75953001544\n",
      "Order (5, 2) sse: 46675.75953001544\n",
      "Fitting order (5, 3)\n",
      "Cross validating monthly results in 11 folds\n",
      "Trained month 0; sse 48956.24407139135\n",
      "Trained month 1; sse 53478.23573329539\n",
      "Trained month 2; sse 49949.75437274313\n",
      "Trained month 3; sse 51513.396557873166\n",
      "Trained month 4; sse 53517.85780474457\n",
      "Trained month 5; sse 46639.08304938452\n",
      "Trained month 6; sse 50126.28527137521\n",
      "Trained month 7; sse 50156.296668978415\n",
      "Trained month 8; sse 54013.07516537504\n",
      "Trained month 9; sse 50986.75255809745\n",
      "Trained month 10; sse 51132.26915589004\n",
      "Finished cross validation with order (5, 3); average sse 46705.77086742901\n",
      "Order (5, 3) sse: 46705.77086742901\n",
      "Fitting order (5, 4)\n",
      "Cross validating monthly results in 11 folds\n",
      "Trained month 0; sse 49030.32033117293\n",
      "Trained month 1; sse 53539.03599506722\n",
      "Trained month 2; sse 49964.981268972835\n",
      "Trained month 3; sse 51546.66737191697\n",
      "Trained month 4; sse 53578.24692944287\n",
      "Trained month 5; sse 46661.42160909801\n",
      "Trained month 6; sse 50151.97547528306\n",
      "Trained month 7; sse 50224.32102998433\n",
      "Trained month 8; sse 54001.707899775654\n",
      "Trained month 9; sse 51015.45014644102\n",
      "Trained month 10; sse 51186.386001499784\n",
      "Finished cross validation with order (5, 4); average sse 46741.70950488789\n",
      "Order (5, 4) sse: 46741.70950488789\n",
      "Fitting order (5, 5)\n",
      "Cross validating monthly results in 11 folds\n",
      "Trained month 0; sse 46858.57374148466\n",
      "Trained month 1; sse 51688.37960564035\n",
      "Trained month 2; sse 48399.156287882375\n",
      "Trained month 3; sse 50616.16670250154\n",
      "Trained month 4; sse 51527.47332840027\n",
      "Trained month 5; sse 45514.61844100776\n",
      "Trained month 6; sse 48966.68407788382\n",
      "Trained month 7; sse 48534.52324955265\n",
      "Trained month 8; sse 53165.983608336\n",
      "Trained month 9; sse 49745.09759771833\n",
      "Trained month 10; sse 49543.57919791814\n",
      "Finished cross validation with order (5, 5); average sse 45380.01965319383\n",
      "Order (5, 5) sse: 45380.01965319383\n",
      "Done fitting ARMA model; best order: (5, 5)\n"
     ]
    }
   ],
   "source": [
    "arma_model.fit(method=\"css\", ar_max=5, ma_max=5, cross_validate=True, verbose=True)"
   ]
  },
  {
   "cell_type": "code",
   "execution_count": null,
   "metadata": {},
   "outputs": [],
   "source": [
    "fig, ax = plt.subplots(figsize=(20, 8))\n",
    "plt.title(\"ARMA(3, 3) Model for Flow Detector Data in 2017\")\n",
    "fig.autofmt_xdate()\n",
    "plt.xlabel(\"Date\")\n",
    "plt.ylabel(\"Flow\")\n",
    "\n",
    "plt.plot(time[:5000], flow.values[:5000])\n",
    "plt.plot(time[:5000], armax_model._armax_models[armax_model.get_best_model_order()].fittedvalues.values[:5000])\n",
    "plt.show()"
   ]
  },
  {
   "cell_type": "code",
   "execution_count": 16,
   "metadata": {},
   "outputs": [
    {
     "name": "stdout",
     "output_type": "stream",
     "text": [
      "[[47007. 46859. 46720. 46637. 46816.]\n",
      " [46974. 46775. 46758. 46658. 46755.]\n",
      " [46798. 46708. 46707. 46657. 46783.]\n",
      " [46754. 46709. 46855. 46773. 46700.]\n",
      " [46659. 46676. 46706. 46742. 45380.]]\n"
     ]
    }
   ],
   "source": [
    "z = np.zeros((5, 5))\n",
    "\n",
    "for order in arma_model._armax_models:\n",
    "    m = arma_model._armax_models[order]\n",
    "    z[order[0]-1, order[1]-1] = m.sse\n",
    "#     print(m.aic)\n",
    "#     print(m.bic)\n",
    "#     print(m.sse)\n",
    "\n",
    "print(np.round(z))"
   ]
  },
  {
   "cell_type": "code",
   "execution_count": 17,
   "metadata": {
    "scrolled": true
   },
   "outputs": [
    {
     "data": {
      "text/plain": [
       "<statsmodels.tsa.arima_model.ARMAResultsWrapper at 0x111bd5b00>"
      ]
     },
     "execution_count": 17,
     "metadata": {},
     "output_type": "execute_result"
    }
   ],
   "source": [
    "arma_model.get_best_model()"
   ]
  },
  {
   "cell_type": "code",
   "execution_count": 19,
   "metadata": {},
   "outputs": [],
   "source": [
    "best_arma_eyeballed = arma_model._armax_models[(3, 2)]"
   ]
  },
  {
   "cell_type": "code",
   "execution_count": 92,
   "metadata": {},
   "outputs": [
    {
     "data": {
      "text/plain": [
       "'2017-01-01 00:00:00'"
      ]
     },
     "execution_count": 92,
     "metadata": {},
     "output_type": "execute_result"
    }
   ],
   "source": [
    "str(arma_model.get_dates()[0])"
   ]
  },
  {
   "cell_type": "code",
   "execution_count": 130,
   "metadata": {},
   "outputs": [
    {
     "data": {
      "text/html": [
       "<table class=\"simpletable\">\n",
       "<caption>ARMA Model Results</caption>\n",
       "<tr>\n",
       "  <th>Dep. Variable:</th>         <td>0</td>        <th>  No. Observations:  </th>   <td>105120</td>   \n",
       "</tr>\n",
       "<tr>\n",
       "  <th>Model:</th>            <td>ARMA(3, 2)</td>    <th>  Log Likelihood     </th> <td>-453018.922</td>\n",
       "</tr>\n",
       "<tr>\n",
       "  <th>Method:</th>               <td>css</td>       <th>  S.D. of innovations</th>   <td>18.006</td>   \n",
       "</tr>\n",
       "<tr>\n",
       "  <th>Date:</th>          <td>Fri, 04 Jan 2019</td> <th>  AIC                </th> <td>906051.845</td> \n",
       "</tr>\n",
       "<tr>\n",
       "  <th>Time:</th>              <td>01:00:14</td>     <th>  BIC                </th> <td>906118.784</td> \n",
       "</tr>\n",
       "<tr>\n",
       "  <th>Sample:</th>           <td>01-01-2017</td>    <th>  HQIC               </th> <td>906072.114</td> \n",
       "</tr>\n",
       "<tr>\n",
       "  <th></th>                 <td>- 12-31-2017</td>   <th>                     </th>      <td> </td>     \n",
       "</tr>\n",
       "</table>\n",
       "<table class=\"simpletable\">\n",
       "<tr>\n",
       "     <td></td>        <th>coef</th>     <th>std err</th>      <th>z</th>      <th>P>|z|</th>  <th>[0.025</th>    <th>0.975]</th>  \n",
       "</tr>\n",
       "<tr>\n",
       "  <th>const</th>   <td>  282.6895</td> <td>   10.097</td> <td>   27.996</td> <td> 0.000</td> <td>  262.899</td> <td>  302.480</td>\n",
       "</tr>\n",
       "<tr>\n",
       "  <th>ar.L1.0</th> <td>    0.6918</td> <td>    0.006</td> <td>  124.273</td> <td> 0.000</td> <td>    0.681</td> <td>    0.703</td>\n",
       "</tr>\n",
       "<tr>\n",
       "  <th>ar.L2.0</th> <td>    0.9271</td> <td>    0.002</td> <td>  383.221</td> <td> 0.000</td> <td>    0.922</td> <td>    0.932</td>\n",
       "</tr>\n",
       "<tr>\n",
       "  <th>ar.L3.0</th> <td>   -0.6254</td> <td>    0.005</td> <td> -115.761</td> <td> 0.000</td> <td>   -0.636</td> <td>   -0.615</td>\n",
       "</tr>\n",
       "<tr>\n",
       "  <th>ma.L1.0</th> <td>    0.4705</td> <td>    0.007</td> <td>   71.608</td> <td> 0.000</td> <td>    0.458</td> <td>    0.483</td>\n",
       "</tr>\n",
       "<tr>\n",
       "  <th>ma.L2.0</th> <td>   -0.3078</td> <td>    0.006</td> <td>  -49.648</td> <td> 0.000</td> <td>   -0.320</td> <td>   -0.296</td>\n",
       "</tr>\n",
       "</table>\n",
       "<table class=\"simpletable\">\n",
       "<caption>Roots</caption>\n",
       "<tr>\n",
       "    <td></td>   <th>            Real</th>  <th>         Imaginary</th> <th>         Modulus</th>  <th>        Frequency</th>\n",
       "</tr>\n",
       "<tr>\n",
       "  <th>AR.1</th> <td>          -1.0441</td> <td>          +0.0000j</td> <td>           1.0441</td> <td>           0.5000</td>\n",
       "</tr>\n",
       "<tr>\n",
       "  <th>AR.2</th> <td>           1.0097</td> <td>          +0.0000j</td> <td>           1.0097</td> <td>           0.0000</td>\n",
       "</tr>\n",
       "<tr>\n",
       "  <th>AR.3</th> <td>           1.5169</td> <td>          +0.0000j</td> <td>           1.5169</td> <td>           0.0000</td>\n",
       "</tr>\n",
       "<tr>\n",
       "  <th>MA.1</th> <td>          -1.1935</td> <td>          +0.0000j</td> <td>           1.1935</td> <td>           0.5000</td>\n",
       "</tr>\n",
       "<tr>\n",
       "  <th>MA.2</th> <td>           2.7221</td> <td>          +0.0000j</td> <td>           2.7221</td> <td>           0.0000</td>\n",
       "</tr>\n",
       "</table>"
      ],
      "text/plain": [
       "<class 'statsmodels.iolib.summary.Summary'>\n",
       "\"\"\"\n",
       "                              ARMA Model Results                              \n",
       "==============================================================================\n",
       "Dep. Variable:                      0   No. Observations:               105120\n",
       "Model:                     ARMA(3, 2)   Log Likelihood             -453018.922\n",
       "Method:                           css   S.D. of innovations             18.006\n",
       "Date:                Fri, 04 Jan 2019   AIC                         906051.845\n",
       "Time:                        01:00:14   BIC                         906118.784\n",
       "Sample:                    01-01-2017   HQIC                        906072.114\n",
       "                         - 12-31-2017                                         \n",
       "==============================================================================\n",
       "                 coef    std err          z      P>|z|      [0.025      0.975]\n",
       "------------------------------------------------------------------------------\n",
       "const        282.6895     10.097     27.996      0.000     262.899     302.480\n",
       "ar.L1.0        0.6918      0.006    124.273      0.000       0.681       0.703\n",
       "ar.L2.0        0.9271      0.002    383.221      0.000       0.922       0.932\n",
       "ar.L3.0       -0.6254      0.005   -115.761      0.000      -0.636      -0.615\n",
       "ma.L1.0        0.4705      0.007     71.608      0.000       0.458       0.483\n",
       "ma.L2.0       -0.3078      0.006    -49.648      0.000      -0.320      -0.296\n",
       "                                    Roots                                    \n",
       "=============================================================================\n",
       "                  Real          Imaginary           Modulus         Frequency\n",
       "-----------------------------------------------------------------------------\n",
       "AR.1           -1.0441           +0.0000j            1.0441            0.5000\n",
       "AR.2            1.0097           +0.0000j            1.0097            0.0000\n",
       "AR.3            1.5169           +0.0000j            1.5169            0.0000\n",
       "MA.1           -1.1935           +0.0000j            1.1935            0.5000\n",
       "MA.2            2.7221           +0.0000j            2.7221            0.0000\n",
       "-----------------------------------------------------------------------------\n",
       "\"\"\""
      ]
     },
     "execution_count": 130,
     "metadata": {},
     "output_type": "execute_result"
    }
   ],
   "source": [
    "best_arma_eyeballed.summary()"
   ]
  },
  {
   "cell_type": "code",
   "execution_count": 127,
   "metadata": {},
   "outputs": [],
   "source": [
    "arma_predictions = best_arma_eyeballed.predict(start='2017-12-01 00:00:00', end=\"2017-12-07 23:55:00\", dynamic=True)"
   ]
  },
  {
   "cell_type": "code",
   "execution_count": 128,
   "metadata": {},
   "outputs": [
    {
     "data": {
      "image/png": "[encoded data removed]",
      "text/plain": [
       "<Figure size 1440x576 with 1 Axes>"
      ]
     },
     "metadata": {
      "needs_background": "light"
     },
     "output_type": "display_data"
    }
   ],
   "source": [
    "fig, ax = plt.subplots(figsize=(20, 8))\n",
    "plt.plot(flow[((flow.index.month == 11) & (flow.index.day > 20)) | ((flow.index.month == 12) & (flow.index.day < 8))])\n",
    "plt.plot(arma_predictions)\n",
    "plt.show()"
   ]
  },
  {
   "cell_type": "code",
   "execution_count": null,
   "metadata": {},
   "outputs": [],
   "source": []
  },
  {
   "cell_type": "code",
   "execution_count": null,
   "metadata": {},
   "outputs": [],
   "source": []
  },
  {
   "cell_type": "code",
   "execution_count": null,
   "metadata": {},
   "outputs": [],
   "source": []
  },
  {
   "cell_type": "code",
   "execution_count": null,
   "metadata": {},
   "outputs": [],
   "source": []
  },
  {
   "cell_type": "code",
   "execution_count": null,
   "metadata": {},
   "outputs": [],
   "source": []
  },
  {
   "cell_type": "code",
   "execution_count": null,
   "metadata": {},
   "outputs": [],
   "source": [
    "index0 = min(range(len(time)), key=lambda i: (1 - (time[i].month == 9)))\n",
    "index1 = min(range(len(time)), key=lambda i: (1 - (time[i].month == 10)))\n",
    "index2 = min(range(len(time)), key=lambda i: (1 - (time[i].month == 11)))\n",
    "index3 = min(range(len(time)), key=lambda i: (1 - (time[i].month == 12)))"
   ]
  },
  {
   "cell_type": "code",
   "execution_count": null,
   "metadata": {},
   "outputs": [],
   "source": [
    "fig, ax = plt.subplots(figsize=(20, 5))\n",
    "fig.autofmt_xdate()\n",
    "plt.plot(time[index0:index1], flow[index0:index1])\n",
    "plt.plot(time[index0:index1], a.fittedvalues[index0:index1])\n",
    "plt.show()"
   ]
  },
  {
   "cell_type": "code",
   "execution_count": null,
   "metadata": {},
   "outputs": [],
   "source": [
    "fig, ax = plt.subplots(figsize=(20, 5))\n",
    "fig.autofmt_xdate()\n",
    "plt.plot(time[index1:index2], flow[index1:index2])\n",
    "plt.plot(time[index1:index2], a.fittedvalues[index1:index2])\n",
    "plt.show()"
   ]
  },
  {
   "cell_type": "code",
   "execution_count": null,
   "metadata": {},
   "outputs": [],
   "source": []
  },
  {
   "cell_type": "code",
   "execution_count": null,
   "metadata": {},
   "outputs": [],
   "source": []
  },
  {
   "cell_type": "code",
   "execution_count": null,
   "metadata": {},
   "outputs": [],
   "source": []
  },
  {
   "cell_type": "code",
   "execution_count": null,
   "metadata": {},
   "outputs": [],
   "source": []
  },
  {
   "cell_type": "code",
   "execution_count": null,
   "metadata": {},
   "outputs": [],
   "source": []
  },
  {
   "cell_type": "code",
   "execution_count": 76,
   "metadata": {},
   "outputs": [],
   "source": [
    "flow_exog = flow[:flow.shape[0]//2]\n",
    "flow_endog = flow[flow.shape[0]//2:]"
   ]
  },
  {
   "cell_type": "code",
   "execution_count": 77,
   "metadata": {},
   "outputs": [],
   "source": [
    "flow_endog = flow_endog.set_index(flow_exog.index)"
   ]
  },
  {
   "cell_type": "code",
   "execution_count": 80,
   "metadata": {},
   "outputs": [],
   "source": [
    "armax_model = armax(flow_endog, exog=flow_exog.values, frequency=DATA_FREQUENCY)"
   ]
  },
  {
   "cell_type": "code",
   "execution_count": 82,
   "metadata": {},
   "outputs": [
    {
     "data": {
      "text/plain": [
       "(52560, 1)"
      ]
     },
     "execution_count": 82,
     "metadata": {},
     "output_type": "execute_result"
    }
   ],
   "source": [
    "armax_model.get_endog().shape"
   ]
  },
  {
   "cell_type": "code",
   "execution_count": 83,
   "metadata": {},
   "outputs": [
    {
     "data": {
      "text/plain": [
       "(52560, 1)"
      ]
     },
     "execution_count": 83,
     "metadata": {},
     "output_type": "execute_result"
    }
   ],
   "source": [
    "armax_model.get_exog().shape"
   ]
  },
  {
   "cell_type": "code",
   "execution_count": 84,
   "metadata": {},
   "outputs": [
    {
     "name": "stdout",
     "output_type": "stream",
     "text": [
      "Fitting order (1, 1)\n"
     ]
    },
    {
     "name": "stderr",
     "output_type": "stream",
     "text": [
      "/Users/victorchan/miniconda3/lib/python3.7/site-packages/statsmodels/tsa/base/tsa_model.py:171: ValueWarning: No frequency information was provided, so inferred frequency 5T will be used.\n",
      "  % freq, ValueWarning)\n"
     ]
    },
    {
     "name": "stdout",
     "output_type": "stream",
     "text": [
      "Order (1, 1) sse: 19328268.438848563\n",
      "Fitting order (1, 2)\n"
     ]
    },
    {
     "name": "stderr",
     "output_type": "stream",
     "text": [
      "/Users/victorchan/miniconda3/lib/python3.7/site-packages/statsmodels/tsa/base/tsa_model.py:171: ValueWarning: No frequency information was provided, so inferred frequency 5T will be used.\n",
      "  % freq, ValueWarning)\n"
     ]
    },
    {
     "name": "stdout",
     "output_type": "stream",
     "text": [
      "Order (1, 2) sse: 18353858.21378947\n",
      "Fitting order (1, 3)\n"
     ]
    },
    {
     "name": "stderr",
     "output_type": "stream",
     "text": [
      "/Users/victorchan/miniconda3/lib/python3.7/site-packages/statsmodels/tsa/base/tsa_model.py:171: ValueWarning: No frequency information was provided, so inferred frequency 5T will be used.\n",
      "  % freq, ValueWarning)\n"
     ]
    },
    {
     "name": "stdout",
     "output_type": "stream",
     "text": [
      "Order (1, 3) sse: 17259822.894606568\n",
      "Fitting order (1, 4)\n"
     ]
    },
    {
     "name": "stderr",
     "output_type": "stream",
     "text": [
      "/Users/victorchan/miniconda3/lib/python3.7/site-packages/statsmodels/tsa/base/tsa_model.py:171: ValueWarning: No frequency information was provided, so inferred frequency 5T will be used.\n",
      "  % freq, ValueWarning)\n"
     ]
    },
    {
     "name": "stdout",
     "output_type": "stream",
     "text": [
      "Order (1, 4) sse: 16507702.196864676\n",
      "Fitting order (1, 5)\n"
     ]
    },
    {
     "name": "stderr",
     "output_type": "stream",
     "text": [
      "/Users/victorchan/miniconda3/lib/python3.7/site-packages/statsmodels/tsa/base/tsa_model.py:171: ValueWarning: No frequency information was provided, so inferred frequency 5T will be used.\n",
      "  % freq, ValueWarning)\n"
     ]
    },
    {
     "name": "stdout",
     "output_type": "stream",
     "text": [
      "Order (1, 5) sse: 14767396.284809658\n",
      "Fitting order (2, 1)\n"
     ]
    },
    {
     "name": "stderr",
     "output_type": "stream",
     "text": [
      "/Users/victorchan/miniconda3/lib/python3.7/site-packages/statsmodels/tsa/base/tsa_model.py:171: ValueWarning: No frequency information was provided, so inferred frequency 5T will be used.\n",
      "  % freq, ValueWarning)\n"
     ]
    },
    {
     "name": "stdout",
     "output_type": "stream",
     "text": [
      "Order (2, 1) sse: 18415254.790867444\n",
      "Fitting order (2, 2)\n"
     ]
    },
    {
     "name": "stderr",
     "output_type": "stream",
     "text": [
      "/Users/victorchan/miniconda3/lib/python3.7/site-packages/statsmodels/tsa/base/tsa_model.py:171: ValueWarning: No frequency information was provided, so inferred frequency 5T will be used.\n",
      "  % freq, ValueWarning)\n"
     ]
    },
    {
     "name": "stdout",
     "output_type": "stream",
     "text": [
      "Order (2, 2) sse: 17671916.13798523\n",
      "Fitting order (2, 3)\n"
     ]
    },
    {
     "name": "stderr",
     "output_type": "stream",
     "text": [
      "/Users/victorchan/miniconda3/lib/python3.7/site-packages/statsmodels/tsa/base/tsa_model.py:171: ValueWarning: No frequency information was provided, so inferred frequency 5T will be used.\n",
      "  % freq, ValueWarning)\n"
     ]
    },
    {
     "name": "stdout",
     "output_type": "stream",
     "text": [
      "Order (2, 3) sse: 17095123.146222986\n",
      "Fitting order (2, 4)\n"
     ]
    },
    {
     "name": "stderr",
     "output_type": "stream",
     "text": [
      "/Users/victorchan/miniconda3/lib/python3.7/site-packages/statsmodels/tsa/base/tsa_model.py:171: ValueWarning: No frequency information was provided, so inferred frequency 5T will be used.\n",
      "  % freq, ValueWarning)\n"
     ]
    },
    {
     "name": "stdout",
     "output_type": "stream",
     "text": [
      "Order (2, 4) sse: 15121088.660874818\n",
      "Fitting order (2, 5)\n"
     ]
    },
    {
     "name": "stderr",
     "output_type": "stream",
     "text": [
      "/Users/victorchan/miniconda3/lib/python3.7/site-packages/statsmodels/tsa/base/tsa_model.py:171: ValueWarning: No frequency information was provided, so inferred frequency 5T will be used.\n",
      "  % freq, ValueWarning)\n"
     ]
    },
    {
     "name": "stdout",
     "output_type": "stream",
     "text": [
      "Order (2, 5) sse: 14730005.635216232\n",
      "Fitting order (3, 1)\n"
     ]
    },
    {
     "name": "stderr",
     "output_type": "stream",
     "text": [
      "/Users/victorchan/miniconda3/lib/python3.7/site-packages/statsmodels/tsa/base/tsa_model.py:171: ValueWarning: No frequency information was provided, so inferred frequency 5T will be used.\n",
      "  % freq, ValueWarning)\n"
     ]
    },
    {
     "name": "stdout",
     "output_type": "stream",
     "text": [
      "Order (3, 1) sse: 17440744.792613003\n",
      "Fitting order (3, 2)\n"
     ]
    },
    {
     "name": "stderr",
     "output_type": "stream",
     "text": [
      "/Users/victorchan/miniconda3/lib/python3.7/site-packages/statsmodels/tsa/base/tsa_model.py:171: ValueWarning: No frequency information was provided, so inferred frequency 5T will be used.\n",
      "  % freq, ValueWarning)\n"
     ]
    },
    {
     "name": "stdout",
     "output_type": "stream",
     "text": [
      "Order (3, 2) sse: 17176949.120549664\n",
      "Fitting order (3, 3)\n"
     ]
    },
    {
     "name": "stderr",
     "output_type": "stream",
     "text": [
      "/Users/victorchan/miniconda3/lib/python3.7/site-packages/statsmodels/tsa/base/tsa_model.py:171: ValueWarning: No frequency information was provided, so inferred frequency 5T will be used.\n",
      "  % freq, ValueWarning)\n"
     ]
    },
    {
     "name": "stdout",
     "output_type": "stream",
     "text": [
      "Order (3, 3) sse: 17136793.411046244\n",
      "Fitting order (3, 4)\n"
     ]
    },
    {
     "name": "stderr",
     "output_type": "stream",
     "text": [
      "/Users/victorchan/miniconda3/lib/python3.7/site-packages/statsmodels/tsa/base/tsa_model.py:171: ValueWarning: No frequency information was provided, so inferred frequency 5T will be used.\n",
      "  % freq, ValueWarning)\n"
     ]
    },
    {
     "name": "stdout",
     "output_type": "stream",
     "text": [
      "Order (3, 4) sse: 14926694.961452177\n",
      "Fitting order (3, 5)\n"
     ]
    },
    {
     "name": "stderr",
     "output_type": "stream",
     "text": [
      "/Users/victorchan/miniconda3/lib/python3.7/site-packages/statsmodels/tsa/base/tsa_model.py:171: ValueWarning: No frequency information was provided, so inferred frequency 5T will be used.\n",
      "  % freq, ValueWarning)\n"
     ]
    },
    {
     "name": "stdout",
     "output_type": "stream",
     "text": [
      "Order (3, 5) sse: 14722567.40831446\n",
      "Fitting order (4, 1)\n"
     ]
    },
    {
     "name": "stderr",
     "output_type": "stream",
     "text": [
      "/Users/victorchan/miniconda3/lib/python3.7/site-packages/statsmodels/tsa/base/tsa_model.py:171: ValueWarning: No frequency information was provided, so inferred frequency 5T will be used.\n",
      "  % freq, ValueWarning)\n"
     ]
    },
    {
     "name": "stdout",
     "output_type": "stream",
     "text": [
      "Order (4, 1) sse: 17277958.721326947\n",
      "Fitting order (4, 2)\n"
     ]
    },
    {
     "name": "stderr",
     "output_type": "stream",
     "text": [
      "/Users/victorchan/miniconda3/lib/python3.7/site-packages/statsmodels/tsa/base/tsa_model.py:171: ValueWarning: No frequency information was provided, so inferred frequency 5T will be used.\n",
      "  % freq, ValueWarning)\n"
     ]
    },
    {
     "name": "stdout",
     "output_type": "stream",
     "text": [
      "Order (4, 2) sse: 17167272.00764692\n",
      "Fitting order (4, 3)\n"
     ]
    },
    {
     "name": "stderr",
     "output_type": "stream",
     "text": [
      "/Users/victorchan/miniconda3/lib/python3.7/site-packages/statsmodels/tsa/base/tsa_model.py:171: ValueWarning: No frequency information was provided, so inferred frequency 5T will be used.\n",
      "  % freq, ValueWarning)\n"
     ]
    },
    {
     "name": "stdout",
     "output_type": "stream",
     "text": [
      "Order (4, 3) sse: 15961072.835403323\n",
      "Fitting order (4, 4)\n"
     ]
    },
    {
     "name": "stderr",
     "output_type": "stream",
     "text": [
      "/Users/victorchan/miniconda3/lib/python3.7/site-packages/statsmodels/tsa/base/tsa_model.py:171: ValueWarning: No frequency information was provided, so inferred frequency 5T will be used.\n",
      "  % freq, ValueWarning)\n"
     ]
    },
    {
     "name": "stdout",
     "output_type": "stream",
     "text": [
      "Order (4, 4) sse: 14692308.269381646\n",
      "Fitting order (4, 5)\n"
     ]
    },
    {
     "name": "stderr",
     "output_type": "stream",
     "text": [
      "/Users/victorchan/miniconda3/lib/python3.7/site-packages/statsmodels/tsa/base/tsa_model.py:171: ValueWarning: No frequency information was provided, so inferred frequency 5T will be used.\n",
      "  % freq, ValueWarning)\n"
     ]
    },
    {
     "name": "stdout",
     "output_type": "stream",
     "text": [
      "Order (4, 5) sse: 14679486.406734688\n",
      "Fitting order (5, 1)\n"
     ]
    },
    {
     "name": "stderr",
     "output_type": "stream",
     "text": [
      "/Users/victorchan/miniconda3/lib/python3.7/site-packages/statsmodels/tsa/base/tsa_model.py:171: ValueWarning: No frequency information was provided, so inferred frequency 5T will be used.\n",
      "  % freq, ValueWarning)\n"
     ]
    },
    {
     "name": "stdout",
     "output_type": "stream",
     "text": [
      "Order (5, 1) sse: 16724410.934445443\n",
      "Fitting order (5, 2)\n"
     ]
    },
    {
     "name": "stderr",
     "output_type": "stream",
     "text": [
      "/Users/victorchan/miniconda3/lib/python3.7/site-packages/statsmodels/tsa/base/tsa_model.py:171: ValueWarning: No frequency information was provided, so inferred frequency 5T will be used.\n",
      "  % freq, ValueWarning)\n"
     ]
    },
    {
     "name": "stdout",
     "output_type": "stream",
     "text": [
      "Order (5, 2) sse: 16010690.510400863\n",
      "Fitting order (5, 3)\n"
     ]
    },
    {
     "name": "stderr",
     "output_type": "stream",
     "text": [
      "/Users/victorchan/miniconda3/lib/python3.7/site-packages/statsmodels/tsa/base/tsa_model.py:171: ValueWarning: No frequency information was provided, so inferred frequency 5T will be used.\n",
      "  % freq, ValueWarning)\n"
     ]
    },
    {
     "name": "stdout",
     "output_type": "stream",
     "text": [
      "Order (5, 3) sse: 15320247.318895757\n",
      "Fitting order (5, 4)\n"
     ]
    },
    {
     "name": "stderr",
     "output_type": "stream",
     "text": [
      "/Users/victorchan/miniconda3/lib/python3.7/site-packages/statsmodels/tsa/base/tsa_model.py:171: ValueWarning: No frequency information was provided, so inferred frequency 5T will be used.\n",
      "  % freq, ValueWarning)\n"
     ]
    },
    {
     "name": "stdout",
     "output_type": "stream",
     "text": [
      "Order (5, 4) sse: 14689364.073232379\n",
      "Fitting order (5, 5)\n"
     ]
    },
    {
     "name": "stderr",
     "output_type": "stream",
     "text": [
      "/Users/victorchan/miniconda3/lib/python3.7/site-packages/statsmodels/tsa/base/tsa_model.py:171: ValueWarning: No frequency information was provided, so inferred frequency 5T will be used.\n",
      "  % freq, ValueWarning)\n"
     ]
    },
    {
     "name": "stdout",
     "output_type": "stream",
     "text": [
      "Order (5, 5) sse: 14673478.460702604\n",
      "Done fitting ARMA model; best order: (5, 5)\n"
     ]
    }
   ],
   "source": [
    "armax_model.fit(method=\"css\", ar_max=5, ma_max=5, cross_validate=False, verbose=True)"
   ]
  },
  {
   "cell_type": "code",
   "execution_count": 87,
   "metadata": {},
   "outputs": [
    {
     "name": "stdout",
     "output_type": "stream",
     "text": [
      "[[459697. 456989. 453769. 451439. 445594.]\n",
      " [457157. 455002. 453269. 446831. 445464.]\n",
      " [454302. 453512. 453400. 446154. 445441.]\n",
      " [453813. 453486. 449668. 445325. 445290.]\n",
      " [452105. 449823. 447518. 445318. 445272.]]\n"
     ]
    }
   ],
   "source": [
    "z2 = np.zeros((5, 5))\n",
    "\n",
    "for order in armax_model._armax_models:\n",
    "    m = armax_model._armax_models[order]\n",
    "    z2[order[0]-1, order[1]-1] = m.bic\n",
    "#     print(m.aic)\n",
    "#     print(m.bic)\n",
    "#     print(m.sse)\n",
    "\n",
    "print(np.round(z2))"
   ]
  }
 ],
 "metadata": {
  "kernelspec": {
   "display_name": "Python 3",
   "language": "python",
   "name": "python3"
  },
  "language_info": {
   "codemirror_mode": {
    "name": "ipython",
    "version": 3
   },
   "file_extension": ".py",
   "mimetype": "text/x-python",
   "name": "python",
   "nbconvert_exporter": "python",
   "pygments_lexer": "ipython3",
   "version": "3.7.1"
  }
 },
 "nbformat": 4,
 "nbformat_minor": 2
}
