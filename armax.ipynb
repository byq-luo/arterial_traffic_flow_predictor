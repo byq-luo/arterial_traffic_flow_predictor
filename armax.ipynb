{
 "cells": [
  {
   "cell_type": "code",
   "execution_count": 1,
   "metadata": {},
   "outputs": [],
   "source": [
    "# %load main.py\n",
    "import sys\n",
    "# import importlib\n",
    "\n",
    "import numpy as np\n",
    "import pandas as pd\n",
    "import matplotlib.pyplot as plt\n",
    "%matplotlib inline\n",
    "import datetime as dt\n",
    "\n",
    "from armax import armax\n",
    "from config import config\n",
    "import mysql_utils as mysql\n",
    "import visualization"
   ]
  },
  {
   "cell_type": "code",
   "execution_count": 2,
   "metadata": {},
   "outputs": [],
   "source": [
    "DATA_FREQUENCY = dt.timedelta(minutes=5)"
   ]
  },
  {
   "cell_type": "code",
   "execution_count": 3,
   "metadata": {},
   "outputs": [],
   "source": [
    "#DETECTOR_DATA_TABLE = \"detector_data_processed_2017_1\"\n",
    "DETECTOR_DATA_TABLE = \"detector_data_processed_2017\"\n",
    "DETECTOR_ID = \"608219\"\n",
    "DETECTOR_DATA_QUERY = \"SELECT DetectorID, Year, Month, Day, Time, Volume, Occupancy\\\n",
    "                        FROM {} AS DD NATURAL JOIN detector_health AS DH\\\n",
    "                        WHERE DetectorID = {} AND Health = 1\\\n",
    "                        ORDER BY Year, Month, Day, Time;\".format(DETECTOR_DATA_TABLE, DETECTOR_ID)"
   ]
  },
  {
   "cell_type": "code",
   "execution_count": 4,
   "metadata": {},
   "outputs": [],
   "source": [
    "def query_detector_data(cursor, table, detector_id, graph=False):\n",
    "    query = DETECTOR_DATA_QUERY.format(table, detector_id)\n",
    "\n",
    "    cursor = mysql.query(cursor, query)\n",
    "    \n",
    "    if cursor == None:\n",
    "        return\n",
    "\n",
    "    time = []\n",
    "    volume = []\n",
    "    occupancy = []\n",
    "    #speed = []\n",
    "\n",
    "    for row in cursor:\n",
    "        d = dt.datetime(row[1], row[2], row[3], row[4] // 3600, (row[4] % 3600) // 60, row[4] % 60)\n",
    "        time.append(d)\n",
    "\n",
    "        volume.append(row[5])\n",
    "        occupancy.append(row[6])\n",
    "        #speed.append(row[7])\n",
    "\n",
    "    time = np.array(time)\n",
    "    volume = np.array(volume)\n",
    "    occupancy = np.array(occupancy)\n",
    "    occupancy_percentage = occupancy / 3600 * 100\n",
    "    #speed = np.array(speed)\n",
    "\n",
    "    if graph:\n",
    "        visualization.plot_data_over_time(time, volume, title=\"Detector {} Volume 2017\".format(detector_id), ylabel=\"Volume (vph)\", figsize=(12, 5))\n",
    "        visualization.plot_data_over_time(time, occupancy, title=\"Detector {} Occupancy 2017\".format(detector_id), ylabel=\"Occupancy (s)\", figsize=(12, 5))\n",
    "        #visualization.plot_data_over_time(time, speed, title=\"Detector {} Speed 2017\".format(detector_id), ylabel=\"Speed\", figsize=(12, 5))\n",
    "        visualization.plot_data_over_time(time, occupancy_percentage, title=\"Detector {} Occupancy 2017\".format(detector_id), ylabel=\"Occupancy (%)\", figsize=(12, 5))\n",
    "        visualization.plot_fundamental_diagram(volume, occupancy_percentage, title=\"Detector {} Flow-Occupancy Diagram 2017\".format(detector_id))\n",
    "\n",
    "    return time, volume, occupancy"
   ]
  },
  {
   "cell_type": "code",
   "execution_count": 5,
   "metadata": {},
   "outputs": [],
   "source": [
    "cnx = mysql.connect_to_database(**config)\n",
    "\n",
    "if cnx == None:\n",
    "    sys.exit()\n",
    "\n",
    "cursor = cnx.cursor()"
   ]
  },
  {
   "cell_type": "code",
   "execution_count": 6,
   "metadata": {},
   "outputs": [],
   "source": [
    "time, flow, occupancy = query_detector_data(cursor, DETECTOR_DATA_TABLE, DETECTOR_ID, graph=False)"
   ]
  },
  {
   "cell_type": "code",
   "execution_count": 7,
   "metadata": {},
   "outputs": [],
   "source": [
    "flow = pd.DataFrame(flow, index=time).reindex(pd.date_range(min(time), max(time), freq='5T'), fill_value=np.nan)\n",
    "flow = flow.interpolate(method='linear')"
   ]
  },
  {
   "cell_type": "code",
   "execution_count": 8,
   "metadata": {},
   "outputs": [],
   "source": [
    "armax_model = armax(flow, dates=time, frequency=DATA_FREQUENCY)"
   ]
  },
  {
   "cell_type": "code",
   "execution_count": null,
   "metadata": {},
   "outputs": [
    {
     "name": "stdout",
     "output_type": "stream",
     "text": [
      "Fitting order (1, 1)\n",
      "Cross validating monthly results in 11 folds\n",
      "Trained month 0; sse 399082816.7072193\n"
     ]
    }
   ],
   "source": [
    "armax_model.fit_to_order((1, 1), method=\"css\", cross_validate=True, verbose=True)"
   ]
  },
  {
   "cell_type": "code",
   "execution_count": null,
   "metadata": {},
   "outputs": [],
   "source": [
    "armax_model.fit(method=\"css\", cross_validate=True, verbose=True)"
   ]
  },
  {
   "cell_type": "code",
   "execution_count": null,
   "metadata": {},
   "outputs": [],
   "source": [
    "for order in armax_model._armax_models:\n",
    "    m = armax_model._armax_models[order]\n",
    "    print(order)\n",
    "    print(m.aic)\n",
    "    print(m.bic)\n",
    "    print(np.sum(np.power(m.resid, 2)))"
   ]
  },
  {
   "cell_type": "code",
   "execution_count": null,
   "metadata": {},
   "outputs": [],
   "source": [
    "print(armax_model.best_model_order)"
   ]
  },
  {
   "cell_type": "code",
   "execution_count": null,
   "metadata": {},
   "outputs": [],
   "source": [
    "a = armax_model._armax_models[(3, 3)]"
   ]
  },
  {
   "cell_type": "code",
   "execution_count": null,
   "metadata": {},
   "outputs": [],
   "source": [
    "b = armax_model._armax_models[(1, 1)]"
   ]
  },
  {
   "cell_type": "code",
   "execution_count": null,
   "metadata": {},
   "outputs": [],
   "source": [
    "index0 = min(range(len(time)), key=lambda i: (1 - (time[i].month == 9)))\n",
    "index1 = min(range(len(time)), key=lambda i: (1 - (time[i].month == 10)))\n",
    "index2 = min(range(len(time)), key=lambda i: (1 - (time[i].month == 11)))\n",
    "index3 = min(range(len(time)), key=lambda i: (1 - (time[i].month == 12)))"
   ]
  },
  {
   "cell_type": "code",
   "execution_count": null,
   "metadata": {},
   "outputs": [],
   "source": [
    "fig, ax = plt.subplots(figsize=(20, 5))\n",
    "fig.autofmt_xdate()\n",
    "plt.plot(time[index0:index1], flow[index0:index1])\n",
    "plt.plot(time[index0:index1], a.fittedvalues[index0:index1])\n",
    "plt.show()"
   ]
  },
  {
   "cell_type": "code",
   "execution_count": null,
   "metadata": {},
   "outputs": [],
   "source": [
    "fig, ax = plt.subplots(figsize=(20, 5))\n",
    "fig.autofmt_xdate()\n",
    "plt.plot(time[index1:index2], flow[index1:index2])\n",
    "plt.plot(time[index1:index2], a.fittedvalues[index1:index2])\n",
    "plt.show()"
   ]
  },
  {
   "cell_type": "code",
   "execution_count": null,
   "metadata": {},
   "outputs": [],
   "source": [
    "cursor.close()\n",
    "cnx.close()"
   ]
  },
  {
   "cell_type": "code",
   "execution_count": null,
   "metadata": {},
   "outputs": [],
   "source": []
  }
 ],
 "metadata": {
  "kernelspec": {
   "display_name": "Python 3",
   "language": "python",
   "name": "python3"
  },
  "language_info": {
   "codemirror_mode": {
    "name": "ipython",
    "version": 3
   },
   "file_extension": ".py",
   "mimetype": "text/x-python",
   "name": "python",
   "nbconvert_exporter": "python",
   "pygments_lexer": "ipython3",
   "version": "3.7.1"
  }
 },
 "nbformat": 4,
 "nbformat_minor": 2
}
