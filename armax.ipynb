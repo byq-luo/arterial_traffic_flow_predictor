{
 "cells": [
  {
   "cell_type": "code",
   "execution_count": 1,
   "metadata": {},
   "outputs": [],
   "source": [
    "# %load main.py\n",
    "import sys\n",
    "# import importlib\n",
    "\n",
    "import numpy as np\n",
    "import pandas as pd\n",
    "import matplotlib.pyplot as plt\n",
    "%matplotlib inline\n",
    "import datetime as dt\n",
    "\n",
    "from armax import armax\n",
    "from config import config\n",
    "import mysql_utils as mysql\n",
    "import preprocessing\n",
    "import visualization"
   ]
  },
  {
   "cell_type": "code",
   "execution_count": 2,
   "metadata": {},
   "outputs": [],
   "source": [
    "DATA_FREQUENCY = dt.timedelta(minutes=5)"
   ]
  },
  {
   "cell_type": "code",
   "execution_count": 3,
   "metadata": {},
   "outputs": [],
   "source": [
    "# DETECTOR_DATA_TABLE = \"detector_data_processed_2017\"\n",
    "DETECTOR_ID = \"608219\"\n",
    "# DETECTOR_DATA_QUERY = \"SELECT DetectorID, Year, Month, Day, Time, Volume, Occupancy\\\n",
    "#                         FROM {} AS DD NATURAL JOIN detector_health AS DH\\\n",
    "#                         WHERE DetectorID = {} AND Health = 1\\\n",
    "#                         ORDER BY Year, Month, Day, Time;\".format(DETECTOR_DATA_TABLE, DETECTOR_ID)"
   ]
  },
  {
   "cell_type": "code",
   "execution_count": 4,
   "metadata": {},
   "outputs": [],
   "source": [
    "flow = pd.read_csv(\"data/detector_{}_flow_imputed.csv\".format(DETECTOR_ID), index_col=0, parse_dates=True)"
   ]
  },
  {
   "cell_type": "code",
   "execution_count": 6,
   "metadata": {},
   "outputs": [],
   "source": [
    "armax_model = armax(flow, frequency=DATA_FREQUENCY)"
   ]
  },
  {
   "cell_type": "code",
   "execution_count": null,
   "metadata": {},
   "outputs": [],
   "source": [
    "armax_model.fit_to_order((1, 1), method=\"css\", cross_validate=True, verbose=True)"
   ]
  },
  {
   "cell_type": "code",
   "execution_count": null,
   "metadata": {},
   "outputs": [],
   "source": [
    "armax_model.fit(method=\"css\", cross_validate=True, verbose=True)"
   ]
  },
  {
   "cell_type": "code",
   "execution_count": null,
   "metadata": {},
   "outputs": [],
   "source": [
    "fig, ax = plt.subplots(figsize=(20, 8))\n",
    "plt.title(\"ARMA(3, 3) Model for Flow Detector Data in 2017\")\n",
    "fig.autofmt_xdate()\n",
    "plt.xlabel(\"Date\")\n",
    "plt.ylabel(\"Flow\")\n",
    "\n",
    "plt.plot(time[:5000], flow.values[:5000])\n",
    "plt.plot(time[:5000], armax_model._armax_models[armax_model.get_best_model_order()].fittedvalues.values[:5000])\n",
    "plt.show()"
   ]
  },
  {
   "cell_type": "code",
   "execution_count": null,
   "metadata": {},
   "outputs": [],
   "source": [
    "for order in armax_model._armax_models:\n",
    "    m = armax_model._armax_models[order]\n",
    "    print(order)\n",
    "    print(m.aic)\n",
    "    print(m.bic)\n",
    "    print(np.sum(np.power(m.resid, 2)))"
   ]
  },
  {
   "cell_type": "code",
   "execution_count": null,
   "metadata": {},
   "outputs": [],
   "source": [
    "print(armax_model.best_model_order)"
   ]
  },
  {
   "cell_type": "code",
   "execution_count": null,
   "metadata": {},
   "outputs": [],
   "source": [
    "a = armax_model._armax_models[(3, 3)]"
   ]
  },
  {
   "cell_type": "code",
   "execution_count": null,
   "metadata": {},
   "outputs": [],
   "source": [
    "b = armax_model._armax_models[(1, 1)]"
   ]
  },
  {
   "cell_type": "code",
   "execution_count": null,
   "metadata": {},
   "outputs": [],
   "source": [
    "index0 = min(range(len(time)), key=lambda i: (1 - (time[i].month == 9)))\n",
    "index1 = min(range(len(time)), key=lambda i: (1 - (time[i].month == 10)))\n",
    "index2 = min(range(len(time)), key=lambda i: (1 - (time[i].month == 11)))\n",
    "index3 = min(range(len(time)), key=lambda i: (1 - (time[i].month == 12)))"
   ]
  },
  {
   "cell_type": "code",
   "execution_count": null,
   "metadata": {},
   "outputs": [],
   "source": [
    "fig, ax = plt.subplots(figsize=(20, 5))\n",
    "fig.autofmt_xdate()\n",
    "plt.plot(time[index0:index1], flow[index0:index1])\n",
    "plt.plot(time[index0:index1], a.fittedvalues[index0:index1])\n",
    "plt.show()"
   ]
  },
  {
   "cell_type": "code",
   "execution_count": null,
   "metadata": {},
   "outputs": [],
   "source": [
    "fig, ax = plt.subplots(figsize=(20, 5))\n",
    "fig.autofmt_xdate()\n",
    "plt.plot(time[index1:index2], flow[index1:index2])\n",
    "plt.plot(time[index1:index2], a.fittedvalues[index1:index2])\n",
    "plt.show()"
   ]
  },
  {
   "cell_type": "code",
   "execution_count": null,
   "metadata": {},
   "outputs": [],
   "source": []
  }
 ],
 "metadata": {
  "kernelspec": {
   "display_name": "Python 3",
   "language": "python",
   "name": "python3"
  },
  "language_info": {
   "codemirror_mode": {
    "name": "ipython",
    "version": 3
   },
   "file_extension": ".py",
   "mimetype": "text/x-python",
   "name": "python",
   "nbconvert_exporter": "python",
   "pygments_lexer": "ipython3",
   "version": "3.7.1"
  }
 },
 "nbformat": 4,
 "nbformat_minor": 2
}
